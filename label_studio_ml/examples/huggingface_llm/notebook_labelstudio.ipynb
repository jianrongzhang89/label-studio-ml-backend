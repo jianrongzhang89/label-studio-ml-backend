{
 "cells": [
  {
   "cell_type": "code",
   "execution_count": 1,
   "id": "05241b64-faf9-439d-9ad0-536bc36138c9",
   "metadata": {},
   "outputs": [
    {
     "name": "stdout",
     "output_type": "stream",
     "text": [
      "Requirement already satisfied: pip in /opt/app-root/lib64/python3.11/site-packages (25.0.1)\n"
     ]
    }
   ],
   "source": [
    "# Use this cell to directly run ONLY the from_pretrained and load previous saved LoRA weights\n",
    "!pip install --upgrade pip\n",
    "!pip install -q accelerate diffusers transformers peft torch torchvision\n",
    "!pip install -q ipywidgets jupyterlab dataclass_wizard"
   ]
  },
  {
   "cell_type": "code",
   "execution_count": 2,
   "id": "a245b097-6a21-4a4c-8670-2bf0a2f174c0",
   "metadata": {},
   "outputs": [
    {
     "name": "stdout",
     "output_type": "stream",
     "text": [
      "Requirement already satisfied: label-studio-sdk in /opt/app-root/lib64/python3.11/site-packages (1.0.10)\n",
      "Requirement already satisfied: Pillow>=10.0.1 in /opt/app-root/lib64/python3.11/site-packages (from label-studio-sdk) (11.0.0)\n",
      "Requirement already satisfied: appdirs>=1.4.3 in /opt/app-root/lib64/python3.11/site-packages (from label-studio-sdk) (1.4.4)\n",
      "Requirement already satisfied: datamodel-code-generator==0.26.1 in /opt/app-root/lib64/python3.11/site-packages (from label-studio-sdk) (0.26.1)\n",
      "Requirement already satisfied: httpx>=0.21.2 in /opt/app-root/lib64/python3.11/site-packages (from label-studio-sdk) (0.27.2)\n",
      "Requirement already satisfied: ijson>=3.2.3 in /opt/app-root/lib64/python3.11/site-packages (from label-studio-sdk) (3.3.0)\n",
      "Requirement already satisfied: jsf<0.12.0,>=0.11.2 in /opt/app-root/lib64/python3.11/site-packages (from label-studio-sdk) (0.11.2)\n",
      "Requirement already satisfied: jsonschema>=4.23.0 in /opt/app-root/lib64/python3.11/site-packages (from label-studio-sdk) (4.23.0)\n",
      "Requirement already satisfied: lxml>=4.2.5 in /opt/app-root/lib64/python3.11/site-packages (from label-studio-sdk) (5.3.1)\n",
      "Requirement already satisfied: nltk<4.0.0,>=3.9.1 in /opt/app-root/lib64/python3.11/site-packages (from label-studio-sdk) (3.9.1)\n",
      "Requirement already satisfied: numpy<2.0.0,>=1.26.4 in /opt/app-root/lib64/python3.11/site-packages (from label-studio-sdk) (1.26.4)\n",
      "Requirement already satisfied: pandas>=0.24.0 in /opt/app-root/lib64/python3.11/site-packages (from label-studio-sdk) (2.2.3)\n",
      "Requirement already satisfied: pydantic>=1.9.2 in /opt/app-root/lib64/python3.11/site-packages (from label-studio-sdk) (2.10.6)\n",
      "Requirement already satisfied: pydantic-core<3.0.0,>=2.18.2 in /opt/app-root/lib64/python3.11/site-packages (from label-studio-sdk) (2.27.2)\n",
      "Requirement already satisfied: requests>=2.22.0 in /opt/app-root/lib64/python3.11/site-packages (from label-studio-sdk) (2.32.3)\n",
      "Requirement already satisfied: requests-mock==1.12.1 in /opt/app-root/lib64/python3.11/site-packages (from label-studio-sdk) (1.12.1)\n",
      "Requirement already satisfied: typing_extensions>=4.0.0 in /opt/app-root/lib64/python3.11/site-packages (from label-studio-sdk) (4.12.2)\n",
      "Requirement already satisfied: ujson>=5.8.0 in /opt/app-root/lib64/python3.11/site-packages (from label-studio-sdk) (5.10.0)\n",
      "Requirement already satisfied: xmljson==0.2.1 in /opt/app-root/lib64/python3.11/site-packages (from label-studio-sdk) (0.2.1)\n",
      "Requirement already satisfied: argcomplete<4.0,>=1.10 in /opt/app-root/lib64/python3.11/site-packages (from datamodel-code-generator==0.26.1->label-studio-sdk) (3.6.0)\n",
      "Requirement already satisfied: black>=19.10b0 in /opt/app-root/lib64/python3.11/site-packages (from datamodel-code-generator==0.26.1->label-studio-sdk) (24.10.0)\n",
      "Requirement already satisfied: genson<2.0,>=1.2.1 in /opt/app-root/lib64/python3.11/site-packages (from datamodel-code-generator==0.26.1->label-studio-sdk) (1.3.0)\n",
      "Requirement already satisfied: inflect<6.0,>=4.1.0 in /opt/app-root/lib64/python3.11/site-packages (from datamodel-code-generator==0.26.1->label-studio-sdk) (5.6.2)\n",
      "Requirement already satisfied: isort<6.0,>=4.3.21 in /opt/app-root/lib64/python3.11/site-packages (from datamodel-code-generator==0.26.1->label-studio-sdk) (5.13.2)\n",
      "Requirement already satisfied: jinja2<4.0,>=2.10.1 in /opt/app-root/lib64/python3.11/site-packages (from datamodel-code-generator==0.26.1->label-studio-sdk) (3.1.4)\n",
      "Requirement already satisfied: packaging in /opt/app-root/lib64/python3.11/site-packages (from datamodel-code-generator==0.26.1->label-studio-sdk) (24.1)\n",
      "Requirement already satisfied: pyyaml>=6.0.1 in /opt/app-root/lib64/python3.11/site-packages (from datamodel-code-generator==0.26.1->label-studio-sdk) (6.0.2)\n",
      "Requirement already satisfied: anyio in /opt/app-root/lib64/python3.11/site-packages (from httpx>=0.21.2->label-studio-sdk) (4.6.2.post1)\n",
      "Requirement already satisfied: certifi in /opt/app-root/lib64/python3.11/site-packages (from httpx>=0.21.2->label-studio-sdk) (2024.8.30)\n",
      "Requirement already satisfied: httpcore==1.* in /opt/app-root/lib64/python3.11/site-packages (from httpx>=0.21.2->label-studio-sdk) (1.0.6)\n",
      "Requirement already satisfied: idna in /opt/app-root/lib64/python3.11/site-packages (from httpx>=0.21.2->label-studio-sdk) (3.10)\n",
      "Requirement already satisfied: sniffio in /opt/app-root/lib64/python3.11/site-packages (from httpx>=0.21.2->label-studio-sdk) (1.3.1)\n",
      "Requirement already satisfied: h11<0.15,>=0.13 in /opt/app-root/lib64/python3.11/site-packages (from httpcore==1.*->httpx>=0.21.2->label-studio-sdk) (0.14.0)\n",
      "Requirement already satisfied: faker>=15.3.4 in /opt/app-root/lib64/python3.11/site-packages (from jsf<0.12.0,>=0.11.2->label-studio-sdk) (36.2.2)\n",
      "Requirement already satisfied: rstr>=3.2.0 in /opt/app-root/lib64/python3.11/site-packages (from jsf<0.12.0,>=0.11.2->label-studio-sdk) (3.2.2)\n",
      "Requirement already satisfied: smart-open>=6.3.0 in /opt/app-root/lib64/python3.11/site-packages (from smart-open[http]>=6.3.0->jsf<0.12.0,>=0.11.2->label-studio-sdk) (7.0.5)\n",
      "Requirement already satisfied: attrs>=22.2.0 in /opt/app-root/lib64/python3.11/site-packages (from jsonschema>=4.23.0->label-studio-sdk) (24.2.0)\n",
      "Requirement already satisfied: jsonschema-specifications>=2023.03.6 in /opt/app-root/lib64/python3.11/site-packages (from jsonschema>=4.23.0->label-studio-sdk) (2024.10.1)\n",
      "Requirement already satisfied: referencing>=0.28.4 in /opt/app-root/lib64/python3.11/site-packages (from jsonschema>=4.23.0->label-studio-sdk) (0.35.1)\n",
      "Requirement already satisfied: rpds-py>=0.7.1 in /opt/app-root/lib64/python3.11/site-packages (from jsonschema>=4.23.0->label-studio-sdk) (0.21.0)\n",
      "Requirement already satisfied: click in /opt/app-root/lib64/python3.11/site-packages (from nltk<4.0.0,>=3.9.1->label-studio-sdk) (8.1.7)\n",
      "Requirement already satisfied: joblib in /opt/app-root/lib64/python3.11/site-packages (from nltk<4.0.0,>=3.9.1->label-studio-sdk) (1.4.2)\n",
      "Requirement already satisfied: regex>=2021.8.3 in /opt/app-root/lib64/python3.11/site-packages (from nltk<4.0.0,>=3.9.1->label-studio-sdk) (2024.11.6)\n",
      "Requirement already satisfied: tqdm in /opt/app-root/lib64/python3.11/site-packages (from nltk<4.0.0,>=3.9.1->label-studio-sdk) (4.67.0)\n",
      "Requirement already satisfied: python-dateutil>=2.8.2 in /opt/app-root/lib64/python3.11/site-packages (from pandas>=0.24.0->label-studio-sdk) (2.9.0.post0)\n",
      "Requirement already satisfied: pytz>=2020.1 in /opt/app-root/lib64/python3.11/site-packages (from pandas>=0.24.0->label-studio-sdk) (2024.2)\n",
      "Requirement already satisfied: tzdata>=2022.7 in /opt/app-root/lib64/python3.11/site-packages (from pandas>=0.24.0->label-studio-sdk) (2024.2)\n",
      "Requirement already satisfied: annotated-types>=0.6.0 in /opt/app-root/lib64/python3.11/site-packages (from pydantic>=1.9.2->label-studio-sdk) (0.7.0)\n",
      "Requirement already satisfied: charset-normalizer<4,>=2 in /opt/app-root/lib64/python3.11/site-packages (from requests>=2.22.0->label-studio-sdk) (3.4.0)\n",
      "Requirement already satisfied: urllib3<3,>=1.21.1 in /opt/app-root/lib64/python3.11/site-packages (from requests>=2.22.0->label-studio-sdk) (1.26.20)\n",
      "Requirement already satisfied: mypy-extensions>=0.4.3 in /opt/app-root/lib64/python3.11/site-packages (from black>=19.10b0->datamodel-code-generator==0.26.1->label-studio-sdk) (1.0.0)\n",
      "Requirement already satisfied: pathspec>=0.9.0 in /opt/app-root/lib64/python3.11/site-packages (from black>=19.10b0->datamodel-code-generator==0.26.1->label-studio-sdk) (0.12.1)\n",
      "Requirement already satisfied: platformdirs>=2 in /opt/app-root/lib64/python3.11/site-packages (from black>=19.10b0->datamodel-code-generator==0.26.1->label-studio-sdk) (4.3.6)\n",
      "Requirement already satisfied: MarkupSafe>=2.0 in /opt/app-root/lib64/python3.11/site-packages (from jinja2<4.0,>=2.10.1->datamodel-code-generator==0.26.1->label-studio-sdk) (3.0.2)\n",
      "Requirement already satisfied: email-validator>=2.0.0 in /opt/app-root/lib64/python3.11/site-packages (from pydantic[email]!=2.4.0,<3.0,>=1.10.0; python_version >= \"3.11\" and python_version < \"4.0\"->datamodel-code-generator==0.26.1->label-studio-sdk) (2.2.0)\n",
      "Requirement already satisfied: six>=1.5 in /opt/app-root/lib64/python3.11/site-packages (from python-dateutil>=2.8.2->pandas>=0.24.0->label-studio-sdk) (1.16.0)\n",
      "Requirement already satisfied: wrapt in /opt/app-root/lib64/python3.11/site-packages (from smart-open>=6.3.0->smart-open[http]>=6.3.0->jsf<0.12.0,>=0.11.2->label-studio-sdk) (1.17.0rc1)\n",
      "Requirement already satisfied: dnspython>=2.0.0 in /opt/app-root/lib64/python3.11/site-packages (from email-validator>=2.0.0->pydantic[email]!=2.4.0,<3.0,>=1.10.0; python_version >= \"3.11\" and python_version < \"4.0\"->datamodel-code-generator==0.26.1->label-studio-sdk) (2.7.0)\n"
     ]
    }
   ],
   "source": [
    "!pip install label-studio-sdk"
   ]
  },
  {
   "cell_type": "code",
   "execution_count": 3,
   "id": "ba0b7a85-ca2e-4979-8a87-9a5ff0695a8a",
   "metadata": {},
   "outputs": [],
   "source": [
    "# Define the URL where Label Studio is accessible and the API key for your user account\n",
    "LABEL_STUDIO_URL = 'http://label-studio-route-zhang-aws.apps.ai-dev01.kni.syseng.devcluster.openshift.com'\n",
    "# API key is available at the Account & Settings > Access Tokens page in Label Studio UI\n",
    "API_KEY = 'd79c5a9c19db16194b6c1ae5d2724d852711328d'\n",
    "\n",
    "PROJECT_TITLE='jupiternotebook'\n",
    "\n",
    "# Import the SDK and the client module\n",
    "from label_studio_sdk.client import LabelStudio\n",
    "\n",
    "# Connect to the Label Studio API and check the connection\n",
    "ls = LabelStudio(base_url=LABEL_STUDIO_URL, api_key=API_KEY)"
   ]
  },
  {
   "cell_type": "code",
   "execution_count": 11,
   "id": "643736b3-aa71-4ada-9704-2569499eab6c",
   "metadata": {},
   "outputs": [
    {
     "name": "stdout",
     "output_type": "stream",
     "text": [
      "Project: id=6 title='jupiternotebook' description='' label_config='<View>\\n    <Text name=\"input_text\" value=\"$text\"/>\\n  <TextArea name=\"generated_text\"  toName=\"input_text\"/>\\n</View>' expert_instruction='' show_instruction=False show_skip_button=True enable_empty_annotation=True show_annotation_history=False organization=1 prompts=None color='#FFFFFF' maximum_annotations=1 is_published=False model_version='huggingfacellm' is_draft=False created_by=UserSimple(id=1, first_name='', last_name='', email='jianrzha@redhat.com', avatar=None) created_at=datetime.datetime(2025, 3, 7, 20, 44, 3, 9821, tzinfo=TzInfo(UTC)) min_annotations_to_start_training=0 start_training_on_annotation_update=False show_collab_predictions=True num_tasks_with_annotations=0 task_number=0 useful_annotation_number=0 ground_truth_number=0 skipped_annotations_number=0 total_annotations_number=0 total_predictions_number=0 sampling='Sequential sampling' show_ground_truth_first=False show_overlap_first=False overlap_cohort_percentage=100 task_data_login=None task_data_password=None control_weights={'generated_text': {'type': 'TextArea', 'labels': {}, 'overall': 1.0}} parsed_label_config={'generated_text': {'type': 'TextArea', 'inputs': [{'type': 'Text', 'value': 'text', 'valueType': None}], 'labels': [], 'to_name': ['input_text'], 'labels_attrs': {}}} evaluate_predictions_automatically=False config_has_control_tags=True skip_queue='REQUEUE_FOR_OTHERS' reveal_preannotations_interactively=False pinned_at=None finished_task_number=0 queue_total=0 queue_done=0 config_suitable_for_bulk_annotation=True\n",
      "found id=6 title='jupiternotebook' description='' label_config='<View>\\n    <Text name=\"input_text\" value=\"$text\"/>\\n  <TextArea name=\"generated_text\"  toName=\"input_text\"/>\\n</View>' expert_instruction='' show_instruction=False show_skip_button=True enable_empty_annotation=True show_annotation_history=False organization=1 prompts=None color='#FFFFFF' maximum_annotations=1 is_published=False model_version='huggingfacellm' is_draft=False created_by=UserSimple(id=1, first_name='', last_name='', email='jianrzha@redhat.com', avatar=None) created_at=datetime.datetime(2025, 3, 7, 20, 44, 3, 9821, tzinfo=TzInfo(UTC)) min_annotations_to_start_training=0 start_training_on_annotation_update=False show_collab_predictions=True num_tasks_with_annotations=0 task_number=0 useful_annotation_number=0 ground_truth_number=0 skipped_annotations_number=0 total_annotations_number=0 total_predictions_number=0 sampling='Sequential sampling' show_ground_truth_first=False show_overlap_first=False overlap_cohort_percentage=100 task_data_login=None task_data_password=None control_weights={'generated_text': {'type': 'TextArea', 'labels': {}, 'overall': 1.0}} parsed_label_config={'generated_text': {'type': 'TextArea', 'inputs': [{'type': 'Text', 'value': 'text', 'valueType': None}], 'labels': [], 'to_name': ['input_text'], 'labels_attrs': {}}} evaluate_predictions_automatically=False config_has_control_tags=True skip_queue='REQUEUE_FOR_OTHERS' reveal_preannotations_interactively=False pinned_at=None finished_task_number=0 queue_total=0 queue_done=0 config_suitable_for_bulk_annotation=True\n",
      "Project: id=1 title='Project Huggingface LLM' description='' label_config='<View>\\n    <Text name=\"input_text\" value=\"$text\"/>\\n    <TextArea name=\"generated_text\"  toName=\"input_text\"/>\\n</View>' expert_instruction='' show_instruction=False show_skip_button=True enable_empty_annotation=True show_annotation_history=False organization=1 prompts=None color='#FFFFFF' maximum_annotations=1 is_published=False model_version='huggingfacellm' is_draft=False created_by=UserSimple(id=1, first_name='', last_name='', email='jianrzha@redhat.com', avatar=None) created_at=datetime.datetime(2025, 3, 3, 16, 21, 10, 995561, tzinfo=TzInfo(UTC)) min_annotations_to_start_training=1 start_training_on_annotation_update=True show_collab_predictions=True num_tasks_with_annotations=0 task_number=4 useful_annotation_number=0 ground_truth_number=0 skipped_annotations_number=0 total_annotations_number=0 total_predictions_number=4 sampling='Sequential sampling' show_ground_truth_first=False show_overlap_first=False overlap_cohort_percentage=100 task_data_login=None task_data_password=None control_weights={'generated_text': {'type': 'TextArea', 'labels': {}, 'overall': 1.0}} parsed_label_config={'generated_text': {'type': 'TextArea', 'inputs': [{'type': 'Text', 'value': 'text', 'valueType': None}], 'labels': [], 'to_name': ['input_text'], 'labels_attrs': {}}} evaluate_predictions_automatically=False config_has_control_tags=True skip_queue='REQUEUE_FOR_OTHERS' reveal_preannotations_interactively=False pinned_at=None finished_task_number=0 queue_total=4 queue_done=0 config_suitable_for_bulk_annotation=True\n"
     ]
    }
   ],
   "source": [
    "from label_studio_sdk.label_interface import LabelInterface\n",
    "from label_studio_sdk.label_interface.create import choices\n",
    "# Define labeling interface\n",
    "\n",
    "label_config = \"\"\"\n",
    "<View>\n",
    "    <Text name=\"input_text\" value=\"$text\"/>\n",
    "  <TextArea name=\"generated_text\"  toName=\"input_text\"/>\n",
    "</View>\n",
    "    \"\"\"\n",
    "projects = ls.projects.list()\n",
    "project = None\n",
    "for found in projects:\n",
    "    print(\"Project:\", found)\n",
    "    if found.title == PROJECT_TITLE:\n",
    "        project = found\n",
    "        print(\"found\", project)\n",
    "    #    break\n",
    "if project is None:\n",
    "    # Create a project with the specified title and labeling configuration\n",
    "    print(\"create new project: \", PROJECT_TITLE)\n",
    "    project = ls.projects.create(\n",
    "        title=PROJECT_TITLE,\n",
    "        label_config=label_config,\n",
    "        model_version='huggingfacellm'\n",
    "    )"
   ]
  },
  {
   "cell_type": "code",
   "execution_count": 12,
   "id": "01588ebb-d4b2-4644-8c89-acc0e83f028d",
   "metadata": {},
   "outputs": [
    {
     "name": "stdout",
     "output_type": "stream",
     "text": [
      "id=6 title='jupiternotebook' description='' label_config='<View>\\n    <Text name=\"input_text\" value=\"$text\"/>\\n  <TextArea name=\"generated_text\"  toName=\"input_text\"/>\\n</View>' expert_instruction='' show_instruction=False show_skip_button=True enable_empty_annotation=True show_annotation_history=False organization=1 prompts=None color='#FFFFFF' maximum_annotations=1 is_published=False model_version='huggingfacellm' is_draft=False created_by=UserSimple(id=1, first_name='', last_name='', email='jianrzha@redhat.com', avatar=None) created_at=datetime.datetime(2025, 3, 7, 20, 44, 3, 9821, tzinfo=TzInfo(UTC)) min_annotations_to_start_training=0 start_training_on_annotation_update=False show_collab_predictions=True num_tasks_with_annotations=0 task_number=0 useful_annotation_number=0 ground_truth_number=0 skipped_annotations_number=0 total_annotations_number=0 total_predictions_number=0 sampling='Sequential sampling' show_ground_truth_first=False show_overlap_first=False overlap_cohort_percentage=100 task_data_login=None task_data_password=None control_weights={'generated_text': {'type': 'TextArea', 'labels': {}, 'overall': 1.0}} parsed_label_config={'generated_text': {'type': 'TextArea', 'inputs': [{'type': 'Text', 'value': 'text', 'valueType': None}], 'labels': [], 'to_name': ['input_text'], 'labels_attrs': {}}} evaluate_predictions_automatically=False config_has_control_tags=True skip_queue='REQUEUE_FOR_OTHERS' reveal_preannotations_interactively=False pinned_at=None finished_task_number=0 queue_total=0 queue_done=0 config_suitable_for_bulk_annotation=True\n"
     ]
    }
   ],
   "source": [
    "print(project)"
   ]
  },
  {
   "cell_type": "code",
   "execution_count": 13,
   "id": "23ae0eaf-f97c-4a44-ad19-0dcac5763a8d",
   "metadata": {},
   "outputs": [
    {
     "data": {
      "text/plain": [
       "ProjectsImportTasksResponse(task_count=3, annotation_count=0, predictions_count=None, duration=0.024634122848510742, file_upload_ids=[], could_be_tasks_list=False, found_formats=[], data_columns=[], prediction_count=3)"
      ]
     },
     "execution_count": 13,
     "metadata": {},
     "output_type": "execute_result"
    }
   ],
   "source": [
    "ls.projects.import_tasks(\n",
    "    id=project.id,\n",
    "    request=[\n",
    "        {\"text\": \"Where is the town of Sudbury?\", \"input_text\": \"The town of Sudbury is located in Massaschusetts, Uinted States\"},\n",
    "        {\"text\": \"What is the total population of Sudbury?\", \"input_text\": \"About 9000\"},\n",
    "        {\"text\": \"What is percentage of asian in Sudbury?\", \"input_text\": \"5%\"},\n",
    "    ],\n",
    "    preannotated_from_fields=['input_text'],\n",
    ")"
   ]
  },
  {
   "cell_type": "code",
   "execution_count": 14,
   "id": "b0bc6c41-41a1-4a2a-98a1-f2a8c16910ef",
   "metadata": {},
   "outputs": [
    {
     "name": "stdout",
     "output_type": "stream",
     "text": [
      "[{'id': 29, 'annotations': [], 'drafts': [], 'predictions': [17], 'data': {'text': 'Where is the town of Sudbury?'}, 'meta': {}, 'created_at': '2025-03-07T20:44:55.835374Z', 'updated_at': '2025-03-07T20:44:55.835384Z', 'inner_id': 1, 'total_annotations': 0, 'cancelled_annotations': 0, 'total_predictions': 1, 'comment_count': 0, 'unresolved_comment_count': 0, 'last_comment_updated_at': None, 'project': 6, 'updated_by': None, 'comment_authors': []}, {'id': 30, 'annotations': [], 'drafts': [], 'predictions': [18], 'data': {'text': 'What is the total population of Sudbury?'}, 'meta': {}, 'created_at': '2025-03-07T20:44:55.835410Z', 'updated_at': '2025-03-07T20:44:55.835412Z', 'inner_id': 2, 'total_annotations': 0, 'cancelled_annotations': 0, 'total_predictions': 1, 'comment_count': 0, 'unresolved_comment_count': 0, 'last_comment_updated_at': None, 'project': 6, 'updated_by': None, 'comment_authors': []}, {'id': 31, 'annotations': [], 'drafts': [], 'predictions': [19], 'data': {'text': 'What is percentage of asian in Sudbury?'}, 'meta': {}, 'created_at': '2025-03-07T20:44:55.835429Z', 'updated_at': '2025-03-07T20:44:55.835432Z', 'inner_id': 3, 'total_annotations': 0, 'cancelled_annotations': 0, 'total_predictions': 1, 'comment_count': 0, 'unresolved_comment_count': 0, 'last_comment_updated_at': None, 'project': 6, 'updated_by': None, 'comment_authors': []}]\n"
     ]
    }
   ],
   "source": [
    "data = ls.projects.exports.as_json(project.id)\n",
    "print(data)\n"
   ]
  },
  {
   "cell_type": "code",
   "execution_count": null,
   "id": "9d670bc0-ffdf-448d-b5a0-da18de57daec",
   "metadata": {},
   "outputs": [],
   "source": []
  }
 ],
 "metadata": {
  "kernelspec": {
   "display_name": "Python 3.11",
   "language": "python",
   "name": "python3"
  },
  "language_info": {
   "codemirror_mode": {
    "name": "ipython",
    "version": 3
   },
   "file_extension": ".py",
   "mimetype": "text/x-python",
   "name": "python",
   "nbconvert_exporter": "python",
   "pygments_lexer": "ipython3",
   "version": "3.11.7"
  }
 },
 "nbformat": 4,
 "nbformat_minor": 5
}
